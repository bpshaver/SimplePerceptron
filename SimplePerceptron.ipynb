{
 "cells": [
  {
   "cell_type": "markdown",
   "metadata": {},
   "source": [
    "# Simple implementation of a perceptron learning algorithm"
   ]
  },
  {
   "cell_type": "code",
   "execution_count": 1,
   "metadata": {
    "collapsed": true
   },
   "outputs": [],
   "source": [
    "from sklearn.datasets import load_iris\n",
    "import numpy as np\n",
    "import matplotlib.pyplot as plt\n",
    "import pandas as pd\n",
    "import seaborn as sns\n",
    "np.random.seed(1)"
   ]
  },
  {
   "cell_type": "markdown",
   "metadata": {
    "collapsed": true
   },
   "source": [
    "## For now, we will create a linearly seperable data set to play with."
   ]
  },
  {
   "cell_type": "code",
   "execution_count": 2,
   "metadata": {
    "collapsed": true
   },
   "outputs": [],
   "source": [
    "x_1 = [1,1,1,2,2,3,4,4,5,5,5,6,6]\n",
    "x_2 = [4,5,6,4,5,5,1,2,1,2,3,1,3]\n",
    "y   = [1,1,1,1,1,1,-1,-1,-1,-1,-1,-1,-1]\n",
    "data= {'x_1':x_1, 'x_2':x_2, 'y':y}\n",
    "df  = pd.DataFrame(data)"
   ]
  },
  {
   "cell_type": "code",
   "execution_count": 3,
   "metadata": {
    "collapsed": true
   },
   "outputs": [],
   "source": [
    "_ = plt.plot(df[df.y == 1].x_1, df[df.y == 1].x_2, marker='.', linestyle='none', color='blue', markersize =50)\n",
    "_ = plt.plot(df[df.y == -1].x_1, df[df.y == -1].x_2, marker='.', linestyle='none', color='red', markersize =50)"
   ]
  },
  {
   "cell_type": "code",
   "execution_count": 4,
   "metadata": {},
   "outputs": [
    {
     "data": {
      "image/png": "[encoded data removed]",
      "text/plain": [
       "<matplotlib.figure.Figure at 0x20f045eb828>"
      ]
     },
     "metadata": {},
     "output_type": "display_data"
    }
   ],
   "source": [
    "plt.show()"
   ]
  },
  {
   "cell_type": "markdown",
   "metadata": {},
   "source": [
    "## We have n = 13 linearly separable points of classes -1 and 1"
   ]
  },
  {
   "cell_type": "code",
   "execution_count": 5,
   "metadata": {
    "collapsed": true
   },
   "outputs": [],
   "source": [
    "# Initialize vector of weights\n",
    "n = np.shape(df)[1] #Number of weights is equal to number of variables plus a bias.\n",
    "                    #  df includes target variable so we subtract 1 from the number of columns in df. Cancels out w/ bias.\n",
    "weight_initialization_width = .1\n",
    "W = np.random.uniform(0-weight_initialization_width/2, 0+weight_initialization_width/2, size=n)"
   ]
  },
  {
   "cell_type": "code",
   "execution_count": 6,
   "metadata": {
    "collapsed": true
   },
   "outputs": [],
   "source": [
    "# Define activation function\n",
    "def unit_step_activation(Z):\n",
    "    if Z >= 0:\n",
    "        return 1\n",
    "    else:\n",
    "        return -1"
   ]
  },
  {
   "cell_type": "code",
   "execution_count": 7,
   "metadata": {
    "collapsed": true
   },
   "outputs": [],
   "source": [
    "# Define net imput function\n",
    "def give_Z(x_1,x_2, W, i): #Only works with 2 variables\n",
    "    return(1*W[0]+ x_1[i]*W[1]+ x_2[i]*W[2])\n",
    "   \n",
    "    "
   ]
  },
  {
   "cell_type": "code",
   "execution_count": 8,
   "metadata": {
    "collapsed": true
   },
   "outputs": [],
   "source": [
    "# Define function to give change in weights for sample i\n",
    "def give_delta_W(y, y_hat, x_1, x_2, i, learning_rate=.01):\n",
    "    delta_W_0 = learning_rate*(y[i] - y_hat[i])\n",
    "    delta_W_1 = learning_rate*(y[i] - y_hat[i])*x_1[i]\n",
    "    delta_W_2 = learning_rate*(y[i] - y_hat[i])*x_2[i]\n",
    "    return(delta_W_0, delta_W_1, delta_W_2)"
   ]
  },
  {
   "cell_type": "code",
   "execution_count": 9,
   "metadata": {
    "collapsed": true
   },
   "outputs": [],
   "source": [
    "# Define function to make predictions\n",
    "def make_perceptron_pred(x_1, x_2, W):\n",
    "    Z_values = [give_Z(x_1, x_2, W, i) for i in range(len(x_1))]\n",
    "    y_hat    = [unit_step_activation(Z) for Z in Z_values]\n",
    "    return(np.array(y_hat))\n",
    "        "
   ]
  },
  {
   "cell_type": "code",
   "execution_count": 10,
   "metadata": {},
   "outputs": [],
   "source": [
    "y_hat = make_perceptron_pred(x_1, x_2, W=[0,0,0])"
   ]
  },
  {
   "cell_type": "code",
   "execution_count": 11,
   "metadata": {
    "collapsed": true
   },
   "outputs": [],
   "source": [
    "# Define function to update weights\n",
    "def update_weights(W, y, y_hat, x_1, x_2, learning_rate=.01):\n",
    "    for i in range(len(y)):\n",
    "        delta_W_0, delta_W_1, delta_W_2 = give_delta_W(y, y_hat, x_1, x_2, i, learning_rate = learning_rate)\n",
    "        W[0] += delta_W_0\n",
    "        W[1] += delta_W_1\n",
    "        W[2] += delta_W_2 \n",
    "        \n",
    "              \n",
    "        \n",
    "    return(W)\n"
   ]
  },
  {
   "cell_type": "code",
   "execution_count": 12,
   "metadata": {
    "collapsed": true
   },
   "outputs": [],
   "source": [
    "# Function to run algorithm until y_hat doesn't change\n",
    "def run_perceptron_algorithm_2var(x_1, x_2, y, learning_rate = .01, weight_initialization_width = .5, limit = 1000):\n",
    "    solved = False\n",
    "    W = np.random.uniform(0-weight_initialization_width/2, 0+weight_initialization_width/2, size=3)\n",
    "    count = 0\n",
    "    y_hat = np.empty_like(y)\n",
    "    for t in range(limit):\n",
    "        if count == limit:\n",
    "            break\n",
    "        else:\n",
    "            count += 1\n",
    "            y_hat_old = y_hat\n",
    "            y_hat = make_perceptron_pred(x_1, x_2, W)\n",
    "            update_weights(W, y, y_hat, x_1, x_2, learning_rate=learning_rate)\n",
    "            if all(y_hat_old == y_hat):\n",
    "                solved = True\n",
    "                break\n",
    "            \n",
    "        \n",
    "        \n",
    "        \n",
    "        \n",
    "        \n",
    "        \n",
    "        \n",
    "        \n",
    "    return({'final weights':W,'predicted values':y_hat, 'number of runs':count, 'success':solved})    "
   ]
  },
  {
   "cell_type": "code",
   "execution_count": 13,
   "metadata": {
    "collapsed": true
   },
   "outputs": [],
   "source": [
    "result = run_perceptron_algorithm_2var(x_1, x_2, y, limit=100)\n",
    "W = result['final weights']"
   ]
  },
  {
   "cell_type": "code",
   "execution_count": 14,
   "metadata": {
    "collapsed": true
   },
   "outputs": [],
   "source": [
    "def decision_boundary_equation(x, W):\n",
    "    p = -(W[1]*x - W[0])/W[2]\n",
    "    return(p)"
   ]
  },
  {
   "cell_type": "code",
   "execution_count": 15,
   "metadata": {
    "collapsed": true
   },
   "outputs": [],
   "source": [
    "plotted_x = list(np.arange(1,max(x_1)+1))\n",
    "plotted_y = [decision_boundary_equation(x, W) for x in plotted_x]"
   ]
  },
  {
   "cell_type": "code",
   "execution_count": 16,
   "metadata": {},
   "outputs": [
    {
     "data": {
      "image/png": "[encoded data removed]",
      "text/plain": [
       "<matplotlib.figure.Figure at 0x20f05a5c390>"
      ]
     },
     "metadata": {},
     "output_type": "display_data"
    }
   ],
   "source": [
    "_ = plt.plot(df[df.y == 1].x_1, df[df.y == 1].x_2, marker='.', linestyle='none', color='blue', markersize =50)\n",
    "_ = plt.plot(df[df.y == -1].x_1, df[df.y == -1].x_2, marker='.', linestyle='none', color='red', markersize =50)\n",
    "_ = plt.plot(plotted_x, plotted_y, color='purple')\n",
    "plt.show()"
   ]
  }
 ],
 "metadata": {
  "kernelspec": {
   "display_name": "Python 3",
   "language": "python",
   "name": "python3"
  },
  "language_info": {
   "codemirror_mode": {
    "name": "ipython",
    "version": 3
   },
   "file_extension": ".py",
   "mimetype": "text/x-python",
   "name": "python",
   "nbconvert_exporter": "python",
   "pygments_lexer": "ipython3",
   "version": "3.6.1"
  }
 },
 "nbformat": 4,
 "nbformat_minor": 2
}
